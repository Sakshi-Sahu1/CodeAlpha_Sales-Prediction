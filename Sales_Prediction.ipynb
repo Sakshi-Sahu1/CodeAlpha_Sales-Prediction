{
  "nbformat": 4,
  "nbformat_minor": 0,
  "metadata": {
    "colab": {
      "provenance": []
    },
    "kernelspec": {
      "name": "python3",
      "display_name": "Python 3"
    },
    "language_info": {
      "name": "python"
    }
  },
  "cells": [
    {
      "cell_type": "code",
      "source": [
        "import pandas as pd\n",
        "import numpy as np\n",
        "import matplotlib.pyplot as plt\n",
        "import seaborn as sns\n",
        "from sklearn.model_selection import train_test_split, cross_val_score\n",
        "from sklearn.linear_model import LinearRegression, Ridge, Lasso\n",
        "from sklearn.ensemble import RandomForestRegressor, GradientBoostingRegressor\n",
        "from sklearn.preprocessing import StandardScaler\n",
        "from sklearn.metrics import mean_squared_error, r2_score, mean_absolute_error\n",
        "import warnings\n",
        "warnings.filterwarnings('ignore')"
      ],
      "metadata": {
        "id": "KdoRxvzd4fW1"
      },
      "execution_count": null,
      "outputs": []
    },
    {
      "cell_type": "markdown",
      "source": [
        "# Set style for better visualizations"
      ],
      "metadata": {
        "id": "NgJ46IPd4hwf"
      }
    },
    {
      "cell_type": "code",
      "source": [
        "sns.set_style(\"whitegrid\")\n",
        "plt.rcParams['figure.figsize'] = (12, 6)\n",
        "\n",
        "print(\"=\"*60)\n",
        "print(\"SALES PREDICTION SYSTEM\")\n",
        "print(\"=\"*60)"
      ],
      "metadata": {
        "colab": {
          "base_uri": "https://localhost:8080/"
        },
        "id": "5-0ijdqQ4fUd",
        "outputId": "cd8decbe-8a0b-4881-9255-b8d855297062"
      },
      "execution_count": null,
      "outputs": [
        {
          "output_type": "stream",
          "name": "stdout",
          "text": [
            "============================================================\n",
            "SALES PREDICTION SYSTEM\n",
            "============================================================\n"
          ]
        }
      ]
    },
    {
      "cell_type": "markdown",
      "source": [
        "# Download dataset"
      ],
      "metadata": {
        "id": "jzyUBCgo4re8"
      }
    },
    {
      "cell_type": "code",
      "source": [
        "import kagglehub\n",
        "path = kagglehub.dataset_download(\"bumba5341/advertisingcsv\")\n",
        "print(f\"\\nDataset downloaded to: {path}\")"
      ],
      "metadata": {
        "colab": {
          "base_uri": "https://localhost:8080/"
        },
        "id": "7z0IHy3c4fSB",
        "outputId": "29246123-02a7-4688-cf30-41ab1b4023ba"
      },
      "execution_count": null,
      "outputs": [
        {
          "output_type": "stream",
          "name": "stdout",
          "text": [
            "Downloading from https://www.kaggle.com/api/v1/datasets/download/bumba5341/advertisingcsv?dataset_version_number=1...\n"
          ]
        },
        {
          "output_type": "stream",
          "name": "stderr",
          "text": [
            "100%|██████████| 2.26k/2.26k [00:00<00:00, 4.72MB/s]"
          ]
        },
        {
          "output_type": "stream",
          "name": "stdout",
          "text": [
            "Extracting files...\n",
            "\n",
            "Dataset downloaded to: /root/.cache/kagglehub/datasets/bumba5341/advertisingcsv/versions/1\n"
          ]
        },
        {
          "output_type": "stream",
          "name": "stderr",
          "text": [
            "\n"
          ]
        }
      ]
    },
    {
      "cell_type": "markdown",
      "source": [
        "# Load the data"
      ],
      "metadata": {
        "id": "QDI8INVZ42Bu"
      }
    },
    {
      "cell_type": "code",
      "source": [
        "import os\n",
        "# List files in the downloaded directory to find the correct CSV file name\n",
        "print(os.listdir(path))\n",
        "csv_file = os.path.join(path, \"Advertising.csv\") # Corrected filename\n",
        "df = pd.read_csv(csv_file)\n",
        "\n",
        "print(\"\\n\" + \"=\"*60)\n",
        "print(\"1. DATA EXPLORATION\")\n",
        "print(\"=\"*60)\n",
        "\n",
        "print(\"\\nDataset Shape:\", df.shape)\n",
        "print(\"\\nFirst few rows:\")\n",
        "print(df.head())\n",
        "\n",
        "print(\"\\nDataset Info:\")\n",
        "print(df.info())\n",
        "\n",
        "print(\"\\nStatistical Summary:\")\n",
        "print(df.describe())\n",
        "\n",
        "print(\"\\nMissing Values:\")\n",
        "print(df.isnull().sum())"
      ],
      "metadata": {
        "colab": {
          "base_uri": "https://localhost:8080/"
        },
        "id": "22iEx3E24fMi",
        "outputId": "cb702539-3aac-4f4e-ea7a-a2797b5ff6cc"
      },
      "execution_count": null,
      "outputs": [
        {
          "output_type": "stream",
          "name": "stdout",
          "text": [
            "['Advertising.csv']\n",
            "\n",
            "============================================================\n",
            "1. DATA EXPLORATION\n",
            "============================================================\n",
            "\n",
            "Dataset Shape: (200, 5)\n",
            "\n",
            "First few rows:\n",
            "   Unnamed: 0     TV  Radio  Newspaper  Sales\n",
            "0           1  230.1   37.8       69.2   22.1\n",
            "1           2   44.5   39.3       45.1   10.4\n",
            "2           3   17.2   45.9       69.3    9.3\n",
            "3           4  151.5   41.3       58.5   18.5\n",
            "4           5  180.8   10.8       58.4   12.9\n",
            "\n",
            "Dataset Info:\n",
            "<class 'pandas.core.frame.DataFrame'>\n",
            "RangeIndex: 200 entries, 0 to 199\n",
            "Data columns (total 5 columns):\n",
            " #   Column      Non-Null Count  Dtype  \n",
            "---  ------      --------------  -----  \n",
            " 0   Unnamed: 0  200 non-null    int64  \n",
            " 1   TV          200 non-null    float64\n",
            " 2   Radio       200 non-null    float64\n",
            " 3   Newspaper   200 non-null    float64\n",
            " 4   Sales       200 non-null    float64\n",
            "dtypes: float64(4), int64(1)\n",
            "memory usage: 7.9 KB\n",
            "None\n",
            "\n",
            "Statistical Summary:\n",
            "       Unnamed: 0          TV       Radio   Newspaper       Sales\n",
            "count  200.000000  200.000000  200.000000  200.000000  200.000000\n",
            "mean   100.500000  147.042500   23.264000   30.554000   14.022500\n",
            "std     57.879185   85.854236   14.846809   21.778621    5.217457\n",
            "min      1.000000    0.700000    0.000000    0.300000    1.600000\n",
            "25%     50.750000   74.375000    9.975000   12.750000   10.375000\n",
            "50%    100.500000  149.750000   22.900000   25.750000   12.900000\n",
            "75%    150.250000  218.825000   36.525000   45.100000   17.400000\n",
            "max    200.000000  296.400000   49.600000  114.000000   27.000000\n",
            "\n",
            "Missing Values:\n",
            "Unnamed: 0    0\n",
            "TV            0\n",
            "Radio         0\n",
            "Newspaper     0\n",
            "Sales         0\n",
            "dtype: int64\n"
          ]
        }
      ]
    },
    {
      "cell_type": "code",
      "metadata": {
        "colab": {
          "base_uri": "https://localhost:8080/"
        },
        "id": "83050acd",
        "outputId": "c0385c6d-ec0c-4730-db28-3559aab21029"
      },
      "source": [
        "# Check for duplicates\n",
        "print(f\"\\nDuplicate Rows: {df.duplicated().sum()}\")\n",
        "\n",
        "print(\"\\n\" + \"=\"*60)\n",
        "print(\"2. DATA CLEANING & PREPROCESSING\")\n",
        "print(\"=\"*60)"
      ],
      "execution_count": null,
      "outputs": [
        {
          "output_type": "stream",
          "name": "stdout",
          "text": [
            "\n",
            "Duplicate Rows: 0\n",
            "\n",
            "============================================================\n",
            "2. DATA CLEANING & PREPROCESSING\n",
            "============================================================\n"
          ]
        }
      ]
    },
    {
      "cell_type": "code",
      "source": [
        "# Remove duplicates if any\n",
        "df = df.drop_duplicates()"
      ],
      "metadata": {
        "id": "emH5155N4fKA"
      },
      "execution_count": null,
      "outputs": []
    },
    {
      "cell_type": "code",
      "source": [
        "# Handle missing values (if any)\n",
        "if df.isnull().sum().sum() > 0:\n",
        "    df = df.dropna()\n",
        "    print(\"Missing values removed.\")\n",
        "else:\n",
        "    print(\"No missing values found.\")\n"
      ],
      "metadata": {
        "colab": {
          "base_uri": "https://localhost:8080/"
        },
        "id": "p0---MtY4fHf",
        "outputId": "bfced105-73b2-4dd3-a91f-75918cbe7c84"
      },
      "execution_count": null,
      "outputs": [
        {
          "output_type": "stream",
          "name": "stdout",
          "text": [
            "No missing values found.\n"
          ]
        }
      ]
    },
    {
      "cell_type": "code",
      "source": [
        "# Feature engineering\n",
        "if 'TV' in df.columns and 'Radio' in df.columns and 'Newspaper' in df.columns:\n",
        "    df['Total_Spend'] = df['TV'] + df['Radio'] + df['Newspaper']\n",
        "    df['TV_Radio_Interaction'] = df['TV'] * df['Radio']\n",
        "    df['TV_Ratio'] = df['TV'] / (df['Total_Spend'] + 1)\n",
        "    df['Radio_Ratio'] = df['Radio'] / (df['Total_Spend'] + 1)\n",
        "    print(\"\\nNew features created:\")\n",
        "    print(\"- Total_Spend (sum of all advertising)\")\n",
        "    print(\"- TV_Radio_Interaction (TV * Radio)\")\n",
        "    print(\"- TV_Ratio and Radio_Ratio\")\n",
        "\n",
        "    print(\"\\nCleaned Dataset Shape:\", df.shape)\n",
        "\n",
        "print(\"\\n\" + \"=\"*60)\n",
        "print(\"3. EXPLORATORY DATA ANALYSIS\")\n",
        "print(\"=\"*60)"
      ],
      "metadata": {
        "colab": {
          "base_uri": "https://localhost:8080/"
        },
        "id": "lnQB5k9m4fEp",
        "outputId": "ad7b63b9-9b31-4882-f1f8-a1daea3d8981"
      },
      "execution_count": null,
      "outputs": [
        {
          "output_type": "stream",
          "name": "stdout",
          "text": [
            "\n",
            "New features created:\n",
            "- Total_Spend (sum of all advertising)\n",
            "- TV_Radio_Interaction (TV * Radio)\n",
            "- TV_Ratio and Radio_Ratio\n",
            "\n",
            "Cleaned Dataset Shape: (200, 9)\n",
            "\n",
            "============================================================\n",
            "3. EXPLORATORY DATA ANALYSIS\n",
            "============================================================\n"
          ]
        }
      ]
    },
    {
      "cell_type": "code",
      "source": [
        " #Correlation analysis\n",
        "print(\"\\nCorrelation Matrix:\")\n",
        "correlation = df.corr()\n",
        "print(correlation)"
      ],
      "metadata": {
        "colab": {
          "base_uri": "https://localhost:8080/"
        },
        "id": "f3C215oC4e_7",
        "outputId": "9c0546fc-bf0c-4b08-b624-6f18732cef2c"
      },
      "execution_count": null,
      "outputs": [
        {
          "output_type": "stream",
          "name": "stdout",
          "text": [
            "\n",
            "Correlation Matrix:\n",
            "                      Unnamed: 0        TV     Radio  Newspaper     Sales  \\\n",
            "Unnamed: 0              1.000000  0.017715 -0.110680  -0.154944 -0.051616   \n",
            "TV                      0.017715  1.000000  0.054809   0.056648  0.782224   \n",
            "Radio                  -0.110680  0.054809  1.000000   0.354104  0.576223   \n",
            "Newspaper              -0.154944  0.056648  0.354104   1.000000  0.228299   \n",
            "Sales                  -0.051616  0.782224  0.576223   0.228299  1.000000   \n",
            "Total_Spend            -0.037606  0.945330  0.293211   0.343059  0.867712   \n",
            "TV_Radio_Interaction   -0.059243  0.662160  0.681392   0.251706  0.963932   \n",
            "TV_Ratio                0.067522  0.751997 -0.374891  -0.372780  0.454803   \n",
            "Radio_Ratio             0.000746 -0.574392  0.552811  -0.014373 -0.262109   \n",
            "\n",
            "                      Total_Spend  TV_Radio_Interaction  TV_Ratio  Radio_Ratio  \n",
            "Unnamed: 0              -0.037606             -0.059243  0.067522     0.000746  \n",
            "TV                       0.945330              0.662160  0.751997    -0.574392  \n",
            "Radio                    0.293211              0.681392 -0.374891     0.552811  \n",
            "Newspaper                0.343059              0.251706 -0.372780    -0.014373  \n",
            "Sales                    0.867712              0.963932  0.454803    -0.262109  \n",
            "Total_Spend              1.000000              0.779130  0.547158    -0.445442  \n",
            "TV_Radio_Interaction     0.779130              1.000000  0.270016    -0.089090  \n",
            "TV_Ratio                 0.547158              0.270016  1.000000    -0.782930  \n",
            "Radio_Ratio             -0.445442             -0.089090 -0.782930     1.000000  \n"
          ]
        }
      ]
    },
    {
      "cell_type": "code",
      "source": [
        "# Visualizations\n",
        "fig, axes = plt.subplots(2, 2, figsize=(15, 12))"
      ],
      "metadata": {
        "colab": {
          "base_uri": "https://localhost:8080/",
          "height": 511
        },
        "id": "TlPYQIEH4e9v",
        "outputId": "00bf4ffa-33b0-4b16-c8c1-ff2817aeb594"
      },
      "execution_count": null,
      "outputs": [
        {
          "output_type": "display_data",
          "data": {
            "text/plain": [
              "<Figure size 1500x1200 with 4 Axes>"
            ],
            "image/png": "[encoded data removed]"
          },
          "metadata": {}
        }
      ]
    },
    {
      "cell_type": "code",
      "source": [
        "# Correlation heatmap\n",
        "sns.heatmap(correlation, annot=True, cmap='coolwarm', center=0,\n",
        "            ax=axes[0, 0], fmt='.2f')\n",
        "axes[0, 0].set_title('Correlation Heatmap', fontsize=14, fontweight='bold')"
      ],
      "metadata": {
        "colab": {
          "base_uri": "https://localhost:8080/"
        },
        "id": "DJU2VAjX4e2O",
        "outputId": "11299592-4ef9-4ee3-c8b6-9aaa98c39ecc"
      },
      "execution_count": null,
      "outputs": [
        {
          "output_type": "execute_result",
          "data": {
            "text/plain": [
              "Text(0.5, 1.0, 'Correlation Heatmap')"
            ]
          },
          "metadata": {},
          "execution_count": 20
        }
      ]
    },
    {
      "cell_type": "code",
      "source": [
        "# Distribution of Sales\n",
        "if 'Sales' in df.columns:\n",
        "    axes[0, 1].hist(df['Sales'], bins=30, color='skyblue', edgecolor='black')\n",
        "    axes[0, 1].set_title('Sales Distribution', fontsize=14, fontweight='bold')\n",
        "    axes[0, 1].set_xlabel('Sales')\n",
        "    axes[0, 1].set_ylabel('Frequency')"
      ],
      "metadata": {
        "id": "ZnFpmzdX4e5x"
      },
      "execution_count": null,
      "outputs": []
    },
    {
      "cell_type": "code",
      "source": [
        "# Advertising spend comparison\n",
        "if all(col in df.columns for col in ['TV', 'Radio', 'Newspaper']):\n",
        "    spend_data = df[['TV', 'Radio', 'Newspaper']].mean()\n",
        "    axes[1, 0].bar(spend_data.index, spend_data.values,\n",
        "                   color=['#FF6B6B', '#4ECDC4', '#45B7D1'])\n",
        "    axes[1, 0].set_title('Average Advertising Spend by Platform',\n",
        "                         fontsize=14, fontweight='bold')\n",
        "    axes[1, 0].set_ylabel('Average Spend ($1000s)')"
      ],
      "metadata": {
        "id": "o1InJpj_6HMo"
      },
      "execution_count": null,
      "outputs": []
    },
    {
      "cell_type": "code",
      "source": [
        "# TV vs Sales scatter\n",
        "axes[1, 1].scatter(df['TV'], df['Sales'], alpha=0.6, color='#FF6B6B')\n",
        "axes[1, 1].set_title('TV Advertising vs Sales', fontsize=14, fontweight='bold')\n",
        "axes[1, 1].set_xlabel('TV Advertising ($1000s)')\n",
        "axes[1, 1].set_ylabel('Sales ($1000s)')\n",
        "\n",
        "plt.tight_layout()\n",
        "plt.savefig('eda_analysis.png', dpi=300, bbox_inches='tight')\n",
        "print(\"\\nEDA visualizations saved as 'eda_analysis.png'\")\n",
        "plt.show()\n",
        "\n",
        "print(\"\\n\" + \"=\"*60)\n",
        "print(\"4. MODEL BUILDING & TRAINING\")\n",
        "print(\"=\"*60)"
      ],
      "metadata": {
        "colab": {
          "base_uri": "https://localhost:8080/",
          "height": 144
        },
        "id": "BVXqtGec6K4u",
        "outputId": "527260fc-bcf9-47e9-e4d9-f08bda03cc9a"
      },
      "execution_count": null,
      "outputs": [
        {
          "output_type": "stream",
          "name": "stdout",
          "text": [
            "\n",
            "EDA visualizations saved as 'eda_analysis.png'\n"
          ]
        },
        {
          "output_type": "display_data",
          "data": {
            "text/plain": [
              "<Figure size 1200x600 with 0 Axes>"
            ]
          },
          "metadata": {}
        },
        {
          "output_type": "stream",
          "name": "stdout",
          "text": [
            "\n",
            "============================================================\n",
            "4. MODEL BUILDING & TRAINING\n",
            "============================================================\n"
          ]
        }
      ]
    },
    {
      "cell_type": "code",
      "source": [
        "# Prepare features and target\n",
        "if 'Sales' in df.columns:\n",
        "    X = df.drop('Sales', axis=1)\n",
        "    y = df['Sales']\n",
        "else:\n",
        "    print(\"Error: 'Sales' column not found!\")\n",
        "    exit()"
      ],
      "metadata": {
        "id": "levC6DCB6QHe"
      },
      "execution_count": null,
      "outputs": []
    },
    {
      "cell_type": "code",
      "source": [
        "# Split data\n",
        "X_train, X_test, y_train, y_test = train_test_split(\n",
        "    X, y, test_size=0.2, random_state=42\n",
        ")\n",
        "\n",
        "print(f\"\\nTraining set size: {X_train.shape[0]}\")\n",
        "print(f\"Testing set size: {X_test.shape[0]}\")"
      ],
      "metadata": {
        "colab": {
          "base_uri": "https://localhost:8080/"
        },
        "id": "HFjZHFux6b37",
        "outputId": "fde23ff9-b502-470c-ece8-e709dd90de29"
      },
      "execution_count": null,
      "outputs": [
        {
          "output_type": "stream",
          "name": "stdout",
          "text": [
            "\n",
            "Training set size: 160\n",
            "Testing set size: 40\n"
          ]
        }
      ]
    },
    {
      "cell_type": "code",
      "source": [
        "# Scale features\n",
        "scaler = StandardScaler()\n",
        "X_train_scaled = scaler.fit_transform(X_train)\n",
        "X_test_scaled = scaler.transform(X_test)"
      ],
      "metadata": {
        "id": "DdeztVNr6hEa"
      },
      "execution_count": null,
      "outputs": []
    },
    {
      "cell_type": "code",
      "source": [
        "# Train multiple models\n",
        "models = {\n",
        "    'Linear Regression': LinearRegression(),\n",
        "    'Ridge Regression': Ridge(alpha=1.0),\n",
        "    'Lasso Regression': Lasso(alpha=0.1),\n",
        "    'Random Forest': RandomForestRegressor(n_estimators=100, random_state=42),\n",
        "    'Gradient Boosting': GradientBoostingRegressor(n_estimators=100, random_state=42)\n",
        "}\n",
        "results = {}\n",
        "\n",
        "print(\"\\nTraining models...\")\n",
        "for name, model in models.items():\n",
        "    # Train model\n",
        "    if 'Forest' in name or 'Boosting' in name:\n",
        "        model.fit(X_train, y_train)\n",
        "        y_pred = model.predict(X_test)\n",
        "    else:\n",
        "        model.fit(X_train_scaled, y_train)\n",
        "        y_pred = model.predict(X_test_scaled)\n",
        "\n",
        "    # Calculate metrics\n",
        "    mse = mean_squared_error(y_test, y_pred)\n",
        "    rmse = np.sqrt(mse)\n",
        "    mae = mean_absolute_error(y_test, y_pred)\n",
        "    r2 = r2_score(y_test, y_pred)\n",
        "\n",
        "    results[name] = {\n",
        "        'model': model,\n",
        "        'predictions': y_pred,\n",
        "        'RMSE': rmse,\n",
        "        'MAE': mae,\n",
        "        'R2': r2\n",
        "    }\n",
        "\n",
        "    print(f\"\\n{name}:\")\n",
        "    print(f\"  RMSE: {rmse:.4f}\")\n",
        "    print(f\"  MAE: {mae:.4f}\")\n",
        "    print(f\"  R² Score: {r2:.4f}\")\n",
        "\n",
        "print(\"\\n\" + \"=\"*60)\n",
        "print(\"5. MODEL COMPARISON\")\n",
        "print(\"=\"*60)"
      ],
      "metadata": {
        "colab": {
          "base_uri": "https://localhost:8080/"
        },
        "id": "CsNWqDEA6mHD",
        "outputId": "8fdc72fd-00e1-4774-ebde-3815cb729a8d"
      },
      "execution_count": null,
      "outputs": [
        {
          "output_type": "stream",
          "name": "stdout",
          "text": [
            "\n",
            "Training models...\n",
            "\n",
            "Linear Regression:\n",
            "  RMSE: 0.6128\n",
            "  MAE: 0.4461\n",
            "  R² Score: 0.9881\n",
            "\n",
            "Ridge Regression:\n",
            "  RMSE: 0.6085\n",
            "  MAE: 0.4480\n",
            "  R² Score: 0.9883\n",
            "\n",
            "Lasso Regression:\n",
            "  RMSE: 0.4851\n",
            "  MAE: 0.3662\n",
            "  R² Score: 0.9925\n",
            "\n",
            "Random Forest:\n",
            "  RMSE: 0.6179\n",
            "  MAE: 0.4799\n",
            "  R² Score: 0.9879\n",
            "\n",
            "Gradient Boosting:\n",
            "  RMSE: 0.6641\n",
            "  MAE: 0.4815\n",
            "  R² Score: 0.9860\n",
            "\n",
            "============================================================\n",
            "5. MODEL COMPARISON\n",
            "============================================================\n"
          ]
        }
      ]
    },
    {
      "cell_type": "code",
      "source": [
        "# Find best model\n",
        "best_model_name = max(results, key=lambda x: results[x]['R2'])\n",
        "print(f\"\\nBest Model: {best_model_name}\")\n",
        "print(f\"R² Score: {results[best_model_name]['R2']:.4f}\")"
      ],
      "metadata": {
        "colab": {
          "base_uri": "https://localhost:8080/"
        },
        "id": "kNhi0-cC6pZu",
        "outputId": "82f4c822-f76b-4d7a-a96e-ebd3c0351d37"
      },
      "execution_count": null,
      "outputs": [
        {
          "output_type": "stream",
          "name": "stdout",
          "text": [
            "\n",
            "Best Model: Lasso Regression\n",
            "R² Score: 0.9925\n"
          ]
        }
      ]
    },
    {
      "cell_type": "code",
      "source": [
        "\n",
        "# Comparison visualization\n",
        "fig, axes = plt.subplots(1, 2, figsize=(15, 6))\n"
      ],
      "metadata": {
        "colab": {
          "base_uri": "https://localhost:8080/",
          "height": 276
        },
        "id": "iIVbWNPZ60sQ",
        "outputId": "938c38cd-af76-4285-af48-0588b63d20a1"
      },
      "execution_count": null,
      "outputs": [
        {
          "output_type": "display_data",
          "data": {
            "text/plain": [
              "<Figure size 1500x600 with 2 Axes>"
            ],
            "image/png": "[encoded data removed]"
          },
          "metadata": {}
        }
      ]
    },
    {
      "cell_type": "code",
      "source": [
        "# Model performance comparison\n",
        "model_names = list(results.keys())\n",
        "r2_scores = [results[m]['R2'] for m in model_names]\n",
        "rmse_scores = [results[m]['RMSE'] for m in model_names]\n",
        "\n",
        "axes[0].barh(model_names, r2_scores, color='#4ECDC4')\n",
        "axes[0].set_xlabel('R² Score')\n",
        "axes[0].set_title('Model Comparison - R² Score', fontsize=14, fontweight='bold')\n",
        "axes[0].set_xlim(0, 1)"
      ],
      "metadata": {
        "colab": {
          "base_uri": "https://localhost:8080/"
        },
        "id": "-6p8UZJP64_G",
        "outputId": "cbaec262-e4bd-45b0-d8ec-78e9f5e46821"
      },
      "execution_count": null,
      "outputs": [
        {
          "output_type": "execute_result",
          "data": {
            "text/plain": [
              "(0.0, 1.0)"
            ]
          },
          "metadata": {},
          "execution_count": 33
        }
      ]
    },
    {
      "cell_type": "code",
      "source": [
        "# Actual vs Predicted for best model\n",
        "best_pred = results[best_model_name]['predictions']\n",
        "axes[1].scatter(y_test, best_pred, alpha=0.6, color='#FF6B6B')\n",
        "axes[1].plot([y_test.min(), y_test.max()],\n",
        "             [y_test.min(), y_test.max()],\n",
        "             'k--', lw=2, label='Perfect Prediction')\n",
        "axes[1].set_xlabel('Actual Sales')\n",
        "axes[1].set_ylabel('Predicted Sales')\n",
        "axes[1].set_title(f'Actual vs Predicted - {best_model_name}',\n",
        "                  fontsize=14, fontweight='bold')\n",
        "axes[1].legend()\n",
        "\n",
        "plt.tight_layout()\n",
        "plt.savefig('model_comparison.png', dpi=300, bbox_inches='tight')\n",
        "print(\"\\nModel comparison saved as 'model_comparison.png'\")\n",
        "plt.show()\n",
        "\n",
        "print(\"\\n\" + \"=\"*60)\n",
        "print(\"6. FEATURE IMPORTANCE ANALYSIS\")\n",
        "print(\"=\"*60)"
      ],
      "metadata": {
        "colab": {
          "base_uri": "https://localhost:8080/",
          "height": 144
        },
        "id": "reSvXG4867LZ",
        "outputId": "0e56b67c-90af-47e8-f7b1-68142f0a8d36"
      },
      "execution_count": null,
      "outputs": [
        {
          "output_type": "stream",
          "name": "stdout",
          "text": [
            "\n",
            "Model comparison saved as 'model_comparison.png'\n"
          ]
        },
        {
          "output_type": "display_data",
          "data": {
            "text/plain": [
              "<Figure size 1200x600 with 0 Axes>"
            ]
          },
          "metadata": {}
        },
        {
          "output_type": "stream",
          "name": "stdout",
          "text": [
            "\n",
            "============================================================\n",
            "6. FEATURE IMPORTANCE ANALYSIS\n",
            "============================================================\n"
          ]
        }
      ]
    },
    {
      "cell_type": "code",
      "source": [
        "# Feature importance from best tree-based model\n",
        "if 'Forest' in best_model_name or 'Boosting' in best_model_name:\n",
        "    best_model = results[best_model_name]['model']\n",
        "    importances = best_model.feature_importances_\n",
        "    feature_importance = pd.DataFrame({\n",
        "        'Feature': X.columns,\n",
        "        'Importance': importances\n",
        "    }).sort_values('Importance', ascending=False)\n",
        "\n",
        "    print(\"\\nFeature Importance:\")\n",
        "    print(feature_importance)\n",
        "\n",
        "    plt.figure(figsize=(10, 6))\n",
        "    plt.barh(feature_importance['Feature'], feature_importance['Importance'],\n",
        "             color='#45B7D1')\n",
        "    plt.xlabel('Importance')\n",
        "    plt.title('Feature Importance Analysis', fontsize=14, fontweight='bold')\n",
        "    plt.tight_layout()\n",
        "    plt.savefig('feature_importance.png', dpi=300, bbox_inches='tight')\n",
        "    print(\"\\nFeature importance saved as 'feature_importance.png'\")\n",
        "    plt.show()\n",
        "\n",
        "print(\"\\n\" + \"=\"*60)\n",
        "print(\"7. BUSINESS INSIGHTS & RECOMMENDATIONS\")\n",
        "print(\"=\"*60)"
      ],
      "metadata": {
        "colab": {
          "base_uri": "https://localhost:8080/"
        },
        "id": "3KYCbg2j6_Bz",
        "outputId": "6a841042-81aa-47da-8094-9be81d0e9748"
      },
      "execution_count": null,
      "outputs": [
        {
          "output_type": "stream",
          "name": "stdout",
          "text": [
            "\n",
            "============================================================\n",
            "7. BUSINESS INSIGHTS & RECOMMENDATIONS\n",
            "============================================================\n"
          ]
        }
      ]
    },
    {
      "cell_type": "code",
      "source": [
        "# Correlation insights\n",
        "if all(col in df.columns for col in ['TV', 'Radio', 'Newspaper', 'Sales']):\n",
        "    tv_corr = df['TV'].corr(df['Sales'])\n",
        "    radio_corr = df['Radio'].corr(df['Sales'])\n",
        "    newspaper_corr = df['Newspaper'].corr(df['Sales'])\n",
        "\n",
        "    print(f\"\\n1. Advertising Impact on Sales:\")\n",
        "    print(f\"   - TV advertising: {tv_corr:.3f} correlation with sales\")\n",
        "    print(f\"   - Radio advertising: {radio_corr:.3f} correlation with sales\")\n",
        "    print(f\"   - Newspaper advertising: {newspaper_corr:.3f} correlation with sales\")\n",
        "\n",
        "    # Determine strongest channel\n",
        "    correlations = {'TV': tv_corr, 'Radio': radio_corr, 'Newspaper': newspaper_corr}\n",
        "    strongest = max(correlations, key=correlations.get)\n",
        "    print(f\"\\n   → {strongest} advertising has the strongest impact on sales!\")\n",
        "\n",
        "print(f\"\\n2. Model Performance:\")\n",
        "print(f\"   - Best model achieves {results[best_model_name]['R2']:.1%} accuracy\")\n",
        "print(f\"   - Average prediction error: ${results[best_model_name]['MAE']:.2f}k\")\n",
        "\n",
        "print(\"\\n3. Marketing Recommendations:\")\n",
        "if all(col in df.columns for col in ['TV', 'Radio', 'Newspaper', 'Sales']):\n",
        "    if tv_corr > radio_corr and tv_corr > newspaper_corr:\n",
        "        print(\"   ✓ Prioritize TV advertising budget\")\n",
        "        print(\"   ✓ Consider reducing newspaper spend\")\n",
        "    elif radio_corr > tv_corr and radio_corr > newspaper_corr:\n",
        "        print(\"   ✓ Focus on Radio advertising campaigns\")\n",
        "        print(\"   ✓ Test combined TV + Radio strategies\")\n",
        "\n",
        "    print(\"   ✓ Use predictive model for budget planning\")\n",
        "    print(\"   ✓ Monitor ROI across all platforms regularly\")\n",
        "\n",
        "print(\"\\n\" + \"=\"*60)\n",
        "print(\"8. PREDICTION EXAMPLE\")\n",
        "print(\"=\"*60)"
      ],
      "metadata": {
        "colab": {
          "base_uri": "https://localhost:8080/"
        },
        "id": "cG7Fn2wh7Dab",
        "outputId": "a447dea2-baf0-4419-e02f-3420d8d14da8"
      },
      "execution_count": null,
      "outputs": [
        {
          "output_type": "stream",
          "name": "stdout",
          "text": [
            "\n",
            "1. Advertising Impact on Sales:\n",
            "   - TV advertising: 0.782 correlation with sales\n",
            "   - Radio advertising: 0.576 correlation with sales\n",
            "   - Newspaper advertising: 0.228 correlation with sales\n",
            "\n",
            "   → TV advertising has the strongest impact on sales!\n",
            "\n",
            "2. Model Performance:\n",
            "   - Best model achieves 99.3% accuracy\n",
            "   - Average prediction error: $0.37k\n",
            "\n",
            "3. Marketing Recommendations:\n",
            "   ✓ Prioritize TV advertising budget\n",
            "   ✓ Consider reducing newspaper spend\n",
            "   ✓ Use predictive model for budget planning\n",
            "   ✓ Monitor ROI across all platforms regularly\n",
            "\n",
            "============================================================\n",
            "8. PREDICTION EXAMPLE\n",
            "============================================================\n"
          ]
        }
      ]
    },
    {
      "cell_type": "code",
      "source": [
        "# Example prediction\n",
        "print(\"\\nExample: Predict sales for new advertising spend\")\n",
        "example = pd.DataFrame({\n",
        "    'TV': [230.1],\n",
        "    'Radio': [37.8],\n",
        "    'Newspaper': [69.2],\n",
        "    'Unnamed: 0': [0] # Add 'Unnamed: 0' with a dummy value\n",
        "})\n",
        "\n",
        "if all(col in example.columns for col in X.columns[:3]):\n",
        "    example['Total_Spend'] = example['TV'] + example['Radio'] + example['Newspaper']\n",
        "    example['TV_Radio_Interaction'] = example['TV'] * example['Radio']\n",
        "    example['TV_Ratio'] = example['TV'] / (example['Total_Spend'] + 1)\n",
        "    example['Radio_Ratio'] = example['Radio'] / (example['Total_Spend'] + 1)\n",
        "\n",
        "    # Ensure same column order as training\n",
        "    example = example[X.columns]\n",
        "\n",
        "best_model = results[best_model_name]['model']\n",
        "if 'Forest' in best_model_name or 'Boosting' in best_model_name:\n",
        "    prediction = best_model.predict(example)[0]\n",
        "else:\n",
        "    example_scaled = scaler.transform(example)\n",
        "    prediction = best_model.predict(example_scaled)[0]\n",
        "\n",
        "print(f\"\\nInput:\")\n",
        "print(f\"  TV: ${example['TV'].values[0]}k\")\n",
        "print(f\"  Radio: ${example['Radio'].values[0]}k\")\n",
        "print(f\"  Newspaper: ${example['Newspaper'].values[0]}k\")\n",
        "print(f\"\\nPredicted Sales: ${prediction:.2f}k\")\n",
        "\n",
        "print(\"\\n\" + \"=\"*60)\n",
        "print(\"ANALYSIS COMPLETE!\")\n",
        "print(\"=\"*60)\n",
        "print(\"\\n✓ Models trained and evaluated\")\n",
        "print(\"✓ Visualizations generated\")\n",
        "print(\"✓ Business insights delivered\")\n",
        "print(\"\\nFiles created:\")\n",
        "print(\"  - eda_analysis.png\")\n",
        "print(\"  - model_comparison.png\")\n",
        "print(\"  - feature_importance.png\")"
      ],
      "metadata": {
        "colab": {
          "base_uri": "https://localhost:8080/"
        },
        "id": "-vx5vGfa7cgf",
        "outputId": "c1dfba11-baab-4506-da42-b0ed271552f7"
      },
      "execution_count": null,
      "outputs": [
        {
          "output_type": "stream",
          "name": "stdout",
          "text": [
            "\n",
            "Example: Predict sales for new advertising spend\n",
            "\n",
            "Input:\n",
            "  TV: $230.1k\n",
            "  Radio: $37.8k\n",
            "  Newspaper: $69.2k\n",
            "\n",
            "Predicted Sales: $21.46k\n",
            "\n",
            "============================================================\n",
            "ANALYSIS COMPLETE!\n",
            "============================================================\n",
            "\n",
            "✓ Models trained and evaluated\n",
            "✓ Visualizations generated\n",
            "✓ Business insights delivered\n",
            "\n",
            "Files created:\n",
            "  - eda_analysis.png\n",
            "  - model_comparison.png\n",
            "  - feature_importance.png\n"
          ]
        }
      ]
    },
    {
      "cell_type": "code",
      "source": [],
      "metadata": {
        "id": "ABM_Zi5S7pZb"
      },
      "execution_count": null,
      "outputs": []
    }
  ]
}